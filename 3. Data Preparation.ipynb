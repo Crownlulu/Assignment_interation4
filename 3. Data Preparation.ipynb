{
 "cells": [
  {
   "cell_type": "code",
   "execution_count": 2,
   "id": "c634c659",
   "metadata": {},
   "outputs": [
    {
     "name": "stderr",
     "output_type": "stream",
     "text": [
      "WARNING: An illegal reflective access operation has occurred\n",
      "WARNING: Illegal reflective access by org.apache.spark.unsafe.Platform (file:/home/ubuntu/spark-3.2.1-bin-hadoop2.7/jars/spark-unsafe_2.12-3.2.1.jar) to constructor java.nio.DirectByteBuffer(long,int)\n",
      "WARNING: Please consider reporting this to the maintainers of org.apache.spark.unsafe.Platform\n",
      "WARNING: Use --illegal-access=warn to enable warnings of further illegal reflective access operations\n",
      "WARNING: All illegal access operations will be denied in a future release\n",
      "Using Spark's default log4j profile: org/apache/spark/log4j-defaults.properties\n",
      "Setting default log level to \"WARN\".\n",
      "To adjust logging level use sc.setLogLevel(newLevel). For SparkR, use setLogLevel(newLevel).\n",
      "24/05/23 09:19:54 WARN NativeCodeLoader: Unable to load native-hadoop library for your platform... using builtin-java classes where applicable\n"
     ]
    }
   ],
   "source": [
    "import findspark\n",
    "findspark.init('/home/ubuntu/spark-3.2.1-bin-hadoop2.7')\n",
    "import pyspark\n",
    "from pyspark.sql import SparkSession\n",
    "spark = SparkSession.builder.appName(\"HungerDataAnalysis\").getOrCreate()"
   ]
  },
  {
   "cell_type": "code",
   "execution_count": 11,
   "id": "54e22adc",
   "metadata": {},
   "outputs": [
    {
     "name": "stdout",
     "output_type": "stream",
     "text": [
      "root\n",
      " |-- Area Code (FAO): integer (nullable = true)\n",
      " |-- Area: string (nullable = true)\n",
      " |-- Year: integer (nullable = true)\n",
      " |-- GDP_Per_Capita_PPP: float (nullable = true)\n",
      " |-- Children_Under_5_Wasting_Percent: float (nullable = true)\n",
      "\n",
      "root\n",
      " |-- Area Code (FAO): integer (nullable = true)\n",
      " |-- Area: string (nullable = true)\n",
      " |-- Year_Code: integer (nullable = true)\n",
      " |-- Year: integer (nullable = true)\n",
      " |-- Agriculture_CG: float (nullable = true)\n",
      " |-- Total_Expenditure_CG: float (nullable = true)\n",
      "\n",
      "root\n",
      " |-- Area Code (FAO): integer (nullable = true)\n",
      " |-- Area: string (nullable = true)\n",
      " |-- Year: integer (nullable = true)\n",
      " |-- Incidence of malnutrition: float (nullable = true)\n",
      "\n"
     ]
    }
   ],
   "source": [
    "wasting_df = spark.read.csv(\"Wasting.csv\", header=True, inferSchema=True)\n",
    "expenditure_df = spark.read.csv(\"Expenditure.csv\", header=True, inferSchema=True)\n",
    "malnutrition_df = spark.read.csv(\"Malnutrition.csv\", header=True, inferSchema=True)\n",
    "\n",
    "from pyspark.sql.types import FloatType\n",
    "\n",
    "def convert_double_to_float(df):\n",
    "    for column, dtype in df.dtypes:\n",
    "        if dtype == 'double':\n",
    "            df = df.withColumn(column, df[column].cast(FloatType()))\n",
    "    return df\n",
    "\n",
    "wasting_df = convert_double_to_float(wasting_df)\n",
    "expenditure_df = convert_double_to_float(expenditure_df)\n",
    "malnutrition_df = convert_double_to_float(malnutrition_df)\n",
    "\n",
    "wasting_df.printSchema()\n",
    "expenditure_df.printSchema()\n",
    "malnutrition_df.printSchema()\n"
   ]
  },
  {
   "cell_type": "markdown",
   "id": "743f509d",
   "metadata": {},
   "source": [
    "# Filling the null# "
   ]
  },
  {
   "cell_type": "code",
   "execution_count": 4,
   "id": "f4764d8f",
   "metadata": {},
   "outputs": [
    {
     "name": "stderr",
     "output_type": "stream",
     "text": [
      "                                                                                \r"
     ]
    },
    {
     "name": "stdout",
     "output_type": "stream",
     "text": [
      "+-----------+----+---------------+---------+--------------+--------------------+\n",
      "|       Area|Year|Area Code (FAO)|Year_Code|Agriculture_CG|Total_Expenditure_CG|\n",
      "+-----------+----+---------------+---------+--------------+--------------------+\n",
      "|    Armenia|2017|            1.0|      1.0|         76.01|             3117.36|\n",
      "|    Armenia|2018|            1.0|      2.0|         53.74|             2996.11|\n",
      "|    Armenia|2019|            1.0|      3.0|         63.14|             3391.52|\n",
      "|    Armenia|2020|            1.0|      4.0|         61.32|             3874.46|\n",
      "|    Armenia|2021|            1.0|      5.0|         87.18|             3978.61|\n",
      "|    Armenia|2022|            1.0|      6.0|        134.42|             5147.58|\n",
      "|Afghanistan|2017|            2.0|      7.0|          null|             9026.27|\n",
      "|Afghanistan|2018|            2.0|      8.0|          null|             5611.66|\n",
      "|Afghanistan|2019|            2.0|      9.0|          null|             5459.32|\n",
      "|Afghanistan|2020|            2.0|     10.0|          null|             5979.45|\n",
      "|Afghanistan|2021|            2.0|     11.0|          null|             5434.51|\n",
      "|Afghanistan|2022|            2.0|     12.0|          null|              2642.9|\n",
      "|    Albania|2017|            3.0|     13.0|         60.28|             2936.56|\n",
      "|    Albania|2018|            3.0|     14.0|         74.81|             3309.15|\n",
      "|    Albania|2019|            3.0|     15.0|         55.54|             3285.52|\n",
      "|    Albania|2020|            3.0|     16.0|         82.56|             3796.47|\n",
      "|    Albania|2021|            3.0|     17.0|        112.75|             4340.22|\n",
      "|    Albania|2022|            3.0|     18.0|        116.29|             4254.78|\n",
      "|    Algeria|2017|            4.0|     19.0|          null|            60976.98|\n",
      "|    Algeria|2018|            4.0|     20.0|          null|            72401.78|\n",
      "+-----------+----+---------------+---------+--------------+--------------------+\n",
      "only showing top 20 rows\n",
      "\n",
      "+--------------+----+---------------+-------------------------+\n",
      "|          Area|Year|Area Code (FAO)|Incidence of malnutrition|\n",
      "+--------------+----+---------------+-------------------------+\n",
      "|       Algeria|2019|            4.0|                     null|\n",
      "|   Afghanistan|2022|            2.0|                     null|\n",
      "|       Algeria|2018|            4.0|                     null|\n",
      "|   Afghanistan|2021|            2.0|                     30.1|\n",
      "|       Albania|2020|            3.0|                      4.1|\n",
      "|   Afghanistan|2020|            2.0|                     28.8|\n",
      "|??land Islands|2018|          284.0|                     null|\n",
      "|       Albania|2017|            3.0|                      4.2|\n",
      "|       Albania|2018|            3.0|                      4.1|\n",
      "|   Afghanistan|2018|            2.0|                     24.0|\n",
      "|       Albania|2022|            3.0|                     null|\n",
      "|??land Islands|2017|          284.0|                     null|\n",
      "|   Afghanistan|2019|            2.0|                     26.9|\n",
      "|??land Islands|2020|          284.0|                     null|\n",
      "|       Albania|2019|            3.0|                      4.1|\n",
      "|   Afghanistan|2017|            2.0|                     22.7|\n",
      "|       Algeria|2017|            4.0|                      2.6|\n",
      "|??land Islands|2021|          284.0|                     null|\n",
      "|??land Islands|2022|          284.0|                     null|\n",
      "|       Albania|2021|            3.0|                      4.1|\n",
      "+--------------+----+---------------+-------------------------+\n",
      "only showing top 20 rows\n",
      "\n",
      "+-----------+----+---------------+------------------+--------------------------------+\n",
      "|       Area|Year|Area Code (FAO)|GDP_Per_Capita_PPP|Children_Under_5_Wasting_Percent|\n",
      "+-----------+----+---------------+------------------+--------------------------------+\n",
      "|    Algeria|2019|            4.0|           11627.3|                             2.7|\n",
      "|Afghanistan|2022|            2.0|              null|                             5.1|\n",
      "|    Algeria|2018|            4.0|           11725.9|                            null|\n",
      "|Afghanistan|2021|            2.0|            1516.3|                            null|\n",
      "|    Armenia|2022|            1.0|              null|                             4.4|\n",
      "|    Albania|2020|            3.0|           13253.8|                            null|\n",
      "|Afghanistan|2020|            2.0|            1968.3|                            null|\n",
      "|    Albania|2017|            3.0|           12771.0|                             1.6|\n",
      "|    Albania|2018|            3.0|           13317.1|                            null|\n",
      "|    Armenia|2020|            1.0|           13357.7|                            null|\n",
      "|    Armenia|2018|            1.0|           13231.4|                            null|\n",
      "|Afghanistan|2018|            2.0|            2060.7|                             5.1|\n",
      "|    Albania|2022|            3.0|              null|                             1.6|\n",
      "|Afghanistan|2019|            2.0|            2079.9|                            null|\n",
      "|    Albania|2019|            3.0|           13653.2|                            null|\n",
      "|Afghanistan|2017|            2.0|            2096.1|                            null|\n",
      "|    Algeria|2017|            4.0|           11809.5|                            null|\n",
      "|    Armenia|2021|            1.0|           14193.1|                            null|\n",
      "|    Armenia|2019|            1.0|           14317.6|                            null|\n",
      "|    Albania|2021|            3.0|           14516.3|                            null|\n",
      "+-----------+----+---------------+------------------+--------------------------------+\n",
      "only showing top 20 rows\n",
      "\n"
     ]
    }
   ],
   "source": [
    "from pyspark.sql import SparkSession\n",
    "from pyspark.sql.functions import mean, col, when\n",
    "\n",
    "spark = SparkSession.builder.appName(\"HungerDataAnalysis\").getOrCreate()\n",
    "\n",
    "expenditure_df = spark.read.csv(\"Expenditure.csv\", header=True, inferSchema=True)\n",
    "malnutrition_df = spark.read.csv(\"Malnutrition.csv\", header=True, inferSchema=True)\n",
    "wasting_df = spark.read.csv(\"Wasting.csv\", header=True, inferSchema=True)\n",
    "\n",
    "def fill_na_with_region_year_mean(df, group_by_cols):\n",
    "    for col_name in df.columns:\n",
    "        if col_name not in group_by_cols:\n",
    "            mean_df = df.groupBy(group_by_cols).agg(mean(col_name).alias('mean_' + col_name))\n",
    "            df = df.join(mean_df, on=group_by_cols, how='left')\n",
    "            df = df.withColumn(col_name, when(df[col_name].isNull(), col('mean_' + col_name)).otherwise(df[col_name]))\n",
    "            df = df.drop('mean_' + col_name)\n",
    "    return df\n",
    "\n",
    "# fill null\n",
    "expenditure_df = fill_na_with_region_year_mean(expenditure_df, ['Area', 'Year'])\n",
    "malnutrition_df = fill_na_with_region_year_mean(malnutrition_df, ['Area', 'Year'])\n",
    "wasting_df = fill_na_with_region_year_mean(wasting_df, ['Area', 'Year'])\n",
    "\n",
    "# show after filling\n",
    "expenditure_df.show()\n",
    "malnutrition_df.show()\n",
    "wasting_df.show()"
   ]
  },
  {
   "cell_type": "code",
   "execution_count": 5,
   "id": "0f7cf3be",
   "metadata": {},
   "outputs": [
    {
     "name": "stdout",
     "output_type": "stream",
     "text": [
      "Expenditure DataFrame null value situation:\n",
      "+---------------+----+---------+----+--------------+--------------------+\n",
      "|Area Code (FAO)|Area|Year_Code|Year|Agriculture_CG|Total_Expenditure_CG|\n",
      "+---------------+----+---------+----+--------------+--------------------+\n",
      "|              0|   0|        0|   0|          1077|                 511|\n",
      "+---------------+----+---------+----+--------------+--------------------+\n",
      "\n",
      "Malnutrition DataFrame null value situation:\n",
      "+---------------+----+----+-------------------------+\n",
      "|Area Code (FAO)|Area|Year|Incidence of malnutrition|\n",
      "+---------------+----+----+-------------------------+\n",
      "|              0|   0|   0|                      917|\n",
      "+---------------+----+----+-------------------------+\n",
      "\n",
      "Wasting DataFrame null value situation:\n",
      "+---------------+----+----+------------------+--------------------------------+\n",
      "|Area Code (FAO)|Area|Year|GDP_Per_Capita_PPP|Children_Under_5_Wasting_Percent|\n",
      "+---------------+----+----+------------------+--------------------------------+\n",
      "|              0|   0|   0|               109|                             786|\n",
      "+---------------+----+----+------------------+--------------------------------+\n",
      "\n",
      "Expenditure DataFrame filled with null values:\n",
      "+----+---------------+---------+----+--------------+--------------------+\n",
      "|Area|Area Code (FAO)|Year_Code|Year|Agriculture_CG|Total_Expenditure_CG|\n",
      "+----+---------------+---------+----+--------------+--------------------+\n",
      "|   0|              0|        0|   0|           936|                 378|\n",
      "+----+---------------+---------+----+--------------+--------------------+\n",
      "\n",
      "Malnutrition DataFrame filled with null values: \n",
      "+----+---------------+----+-------------------------+\n",
      "|Area|Area Code (FAO)|Year|Incidence of malnutrition|\n",
      "+----+---------------+----+-------------------------+\n",
      "|   0|              0|   0|                      762|\n",
      "+----+---------------+----+-------------------------+\n",
      "\n",
      "Wasting DataFrame filled with null values: \n",
      "+----+---------------+----+------------------+--------------------------------+\n",
      "|Area|Area Code (FAO)|Year|GDP_Per_Capita_PPP|Children_Under_5_Wasting_Percent|\n",
      "+----+---------------+----+------------------+--------------------------------+\n",
      "|   0|              0|   0|                 4|                             415|\n",
      "+----+---------------+----+------------------+--------------------------------+\n",
      "\n"
     ]
    }
   ],
   "source": [
    "from pyspark.sql import SparkSession\n",
    "from pyspark.sql.functions import mean, col, when, isnull, sum as spark_sum\n",
    "\n",
    "# Create SparkSession\n",
    "spark = SparkSession.builder.appName(\"HungerDataAnalysis\").getOrCreate()\n",
    "\n",
    "#Load the dataset\n",
    "expenditure_df = spark.read.csv(\"Expenditure.csv\", header=True, inferSchema=True)\n",
    "malnutrition_df = spark.read.csv(\"Malnutrition.csv\", header=True, inferSchema=True)\n",
    "wasting_df = spark.read.csv(\"Wasting.csv\", header=True, inferSchema=True)\n",
    "\n",
    "# Check null value function\n",
    "def check_nulls(df):\n",
    "     return df.select([spark_sum(isnull(col(c)).cast(\"int\")).alias(c) for c in df.columns])\n",
    "\n",
    "#Display null values\n",
    "print(\"Expenditure DataFrame null value situation:\")\n",
    "check_nulls(expenditure_df).show()\n",
    "\n",
    "print(\"Malnutrition DataFrame null value situation:\")\n",
    "check_nulls(malnutrition_df).show()\n",
    "\n",
    "print(\"Wasting DataFrame null value situation:\")\n",
    "check_nulls(wasting_df).show()\n",
    "\n",
    "# Fill in the null value function\n",
    "def fill_na_with_area_mean(df, group_by_col):\n",
    "     for col_name in df.columns:\n",
    "         if col_name != group_by_col:\n",
    "             mean_df = df.groupBy(group_by_col).agg(mean(col_name).alias('mean_' + col_name))\n",
    "             df = df.join(mean_df, on=group_by_col, how='left')\n",
    "             df = df.withColumn(col_name, when(df[col_name].isNull(), col('mean_' + col_name)).otherwise(df[col_name]))\n",
    "             df = df.drop('mean_' + col_name)\n",
    "     return df\n",
    "\n",
    "# Fill in empty values based on Area\n",
    "expenditure_df = fill_na_with_area_mean(expenditure_df, 'Area')\n",
    "malnutrition_df = fill_na_with_area_mean(malnutrition_df, 'Area')\n",
    "wasting_df = fill_na_with_area_mean(wasting_df, 'Area')\n",
    "\n",
    "# Display the null values after filling in the null values\n",
    "print(\"Expenditure DataFrame filled with null values:\")\n",
    "check_nulls(expenditure_df).show()\n",
    "\n",
    "print(\"Malnutrition DataFrame filled with null values: \")\n",
    "check_nulls(malnutrition_df).show()\n",
    "\n",
    "print(\"Wasting DataFrame filled with null values: \")\n",
    "check_nulls(wasting_df).show()"
   ]
  },
  {
   "cell_type": "code",
   "execution_count": 6,
   "id": "9bf9514f",
   "metadata": {},
   "outputs": [
    {
     "name": "stdout",
     "output_type": "stream",
     "text": [
      "Expenditure DataFrame filled with null values:\n",
      "+----+---------------+---------+----+--------------+--------------------+\n",
      "|Area|Area Code (FAO)|Year_Code|Year|Agriculture_CG|Total_Expenditure_CG|\n",
      "+----+---------------+---------+----+--------------+--------------------+\n",
      "|   0|              0|        0|   0|             0|                   0|\n",
      "+----+---------------+---------+----+--------------+--------------------+\n",
      "\n",
      "Malnutrition DataFrame filled with null values: \n",
      "+----+---------------+----+-------------------------+\n",
      "|Area|Area Code (FAO)|Year|Incidence of malnutrition|\n",
      "+----+---------------+----+-------------------------+\n",
      "|   0|              0|   0|                        0|\n",
      "+----+---------------+----+-------------------------+\n",
      "\n",
      "Wasting DataFrame filled with null values: \n",
      "+----+---------------+----+------------------+--------------------------------+\n",
      "|Area|Area Code (FAO)|Year|GDP_Per_Capita_PPP|Children_Under_5_Wasting_Percent|\n",
      "+----+---------------+----+------------------+--------------------------------+\n",
      "|   0|              0|   0|                 0|                               0|\n",
      "+----+---------------+----+------------------+--------------------------------+\n",
      "\n"
     ]
    }
   ],
   "source": [
    "expenditure_df = expenditure_df.na.drop()\n",
    "malnutrition_df = malnutrition_df.na.drop()\n",
    "wasting_df = wasting_df.na.drop()\n",
    "\n",
    "# Display the null values after filling in the null values\n",
    "print(\"Expenditure DataFrame filled with null values:\")\n",
    "check_nulls(expenditure_df).show()\n",
    "\n",
    "print(\"Malnutrition DataFrame filled with null values: \")\n",
    "check_nulls(malnutrition_df).show()\n",
    "\n",
    "print(\"Wasting DataFrame filled with null values: \")\n",
    "check_nulls(wasting_df).show()"
   ]
  },
  {
   "cell_type": "markdown",
   "id": "d0ddcccd",
   "metadata": {},
   "source": [
    "# Remove Outliers, Extreme Values"
   ]
  },
  {
   "cell_type": "code",
   "execution_count": 7,
   "id": "f78710d2",
   "metadata": {},
   "outputs": [
    {
     "name": "stderr",
     "output_type": "stream",
     "text": [
      "24/05/23 09:21:20 WARN WindowExec: No Partition Defined for Window operation! Moving all data to a single partition, this can cause serious performance degradation.\n",
      "24/05/23 09:21:20 WARN WindowExec: No Partition Defined for Window operation! Moving all data to a single partition, this can cause serious performance degradation.\n",
      "24/05/23 09:21:20 WARN WindowExec: No Partition Defined for Window operation! Moving all data to a single partition, this can cause serious performance degradation.\n",
      "24/05/23 09:21:20 WARN WindowExec: No Partition Defined for Window operation! Moving all data to a single partition, this can cause serious performance degradation.\n",
      "24/05/23 09:21:20 WARN WindowExec: No Partition Defined for Window operation! Moving all data to a single partition, this can cause serious performance degradation.\n",
      "24/05/23 09:21:21 WARN WindowExec: No Partition Defined for Window operation! Moving all data to a single partition, this can cause serious performance degradation.\n",
      "24/05/23 09:21:21 WARN WindowExec: No Partition Defined for Window operation! Moving all data to a single partition, this can cause serious performance degradation.\n",
      "24/05/23 09:21:21 WARN WindowExec: No Partition Defined for Window operation! Moving all data to a single partition, this can cause serious performance degradation.\n",
      "24/05/23 09:21:21 WARN WindowExec: No Partition Defined for Window operation! Moving all data to a single partition, this can cause serious performance degradation.\n",
      "24/05/23 09:21:22 WARN WindowExec: No Partition Defined for Window operation! Moving all data to a single partition, this can cause serious performance degradation.\n",
      "24/05/23 09:21:22 WARN WindowExec: No Partition Defined for Window operation! Moving all data to a single partition, this can cause serious performance degradation.\n",
      "24/05/23 09:21:22 WARN WindowExec: No Partition Defined for Window operation! Moving all data to a single partition, this can cause serious performance degradation.\n",
      "24/05/23 09:21:22 WARN WindowExec: No Partition Defined for Window operation! Moving all data to a single partition, this can cause serious performance degradation.\n",
      "                                                                                \r"
     ]
    },
    {
     "name": "stdout",
     "output_type": "stream",
     "text": [
      "+-----------------+---------------+---------+------+------------------+--------------------+\n",
      "|             Area|Area Code (FAO)|Year_Code|  Year|    Agriculture_CG|Total_Expenditure_CG|\n",
      "+-----------------+---------------+---------+------+------------------+--------------------+\n",
      "|             Chad|           39.0|    205.0|2017.0|             33.27|              1121.4|\n",
      "|         Paraguay|          169.0|    937.0|2017.0|            150.08|             6462.26|\n",
      "|          Senegal|          195.0|   1093.0|2017.0|            106.12|             4830.19|\n",
      "|       Cabo Verde|           35.0|    181.0|2017.0|             10.77|              560.47|\n",
      "|           Sweden|          210.0|   1177.0|2017.0|            571.77|             3846.78|\n",
      "|Republic of Korea|          117.0|    637.0|2017.0|             46.63|             3846.78|\n",
      "|           Guyana|           91.0|    493.0|2017.0|             96.38|             1162.32|\n",
      "|            Tonga|          219.0|   1231.0|2017.0|              5.32|              184.05|\n",
      "|             Fiji|           66.0|    367.0|2017.0|             18.09|              586.34|\n",
      "|          Algeria|            4.0|     19.0|2017.0|             46.63|             3846.78|\n",
      "|Equatorial Guinea|           61.0|    337.0|2017.0|17.810000000000002|             2398.38|\n",
      "|             Togo|          217.0|   1219.0|2017.0|             85.19|             1203.99|\n",
      "|   C??te d'Ivoire|          107.0|    583.0|2017.0|            159.44|             8564.91|\n",
      "|        Argentina|            9.0|     49.0|2017.0|             632.8|             3846.78|\n",
      "|           Angola|            7.0|     37.0|2017.0|            111.26|             36676.3|\n",
      "|          Ecuador|           58.0|    319.0|2017.0|            248.78|            24368.38|\n",
      "|          Lesotho|          122.0|    667.0|2017.0|             20.37|             1188.13|\n",
      "|          Albania|            3.0|     13.0|2017.0|             60.28|             2936.56|\n",
      "|       Madagascar|          129.0|    709.0|2017.0|             75.41|             2012.12|\n",
      "|    New Caledonia|          153.0|    841.0|2017.0|             36.61|             1736.07|\n",
      "+-----------------+---------------+---------+------+------------------+--------------------+\n",
      "only showing top 20 rows\n",
      "\n"
     ]
    },
    {
     "name": "stderr",
     "output_type": "stream",
     "text": [
      "24/05/23 09:21:23 WARN WindowExec: No Partition Defined for Window operation! Moving all data to a single partition, this can cause serious performance degradation.\n",
      "24/05/23 09:21:23 WARN WindowExec: No Partition Defined for Window operation! Moving all data to a single partition, this can cause serious performance degradation.\n",
      "24/05/23 09:21:23 WARN WindowExec: No Partition Defined for Window operation! Moving all data to a single partition, this can cause serious performance degradation.\n",
      "24/05/23 09:21:23 WARN WindowExec: No Partition Defined for Window operation! Moving all data to a single partition, this can cause serious performance degradation.\n",
      "24/05/23 09:21:23 WARN WindowExec: No Partition Defined for Window operation! Moving all data to a single partition, this can cause serious performance degradation.\n",
      "24/05/23 09:21:24 WARN WindowExec: No Partition Defined for Window operation! Moving all data to a single partition, this can cause serious performance degradation.\n",
      "24/05/23 09:21:24 WARN WindowExec: No Partition Defined for Window operation! Moving all data to a single partition, this can cause serious performance degradation.\n",
      "24/05/23 09:21:24 WARN WindowExec: No Partition Defined for Window operation! Moving all data to a single partition, this can cause serious performance degradation.\n",
      "24/05/23 09:21:24 WARN WindowExec: No Partition Defined for Window operation! Moving all data to a single partition, this can cause serious performance degradation.\n",
      "24/05/23 09:21:24 WARN WindowExec: No Partition Defined for Window operation! Moving all data to a single partition, this can cause serious performance degradation.\n",
      "24/05/23 09:21:24 WARN WindowExec: No Partition Defined for Window operation! Moving all data to a single partition, this can cause serious performance degradation.\n",
      "24/05/23 09:21:24 WARN WindowExec: No Partition Defined for Window operation! Moving all data to a single partition, this can cause serious performance degradation.\n"
     ]
    },
    {
     "name": "stdout",
     "output_type": "stream",
     "text": [
      "+--------------------+---------------+------+-------------------------+\n",
      "|                Area|Area Code (FAO)|  Year|Incidence of malnutrition|\n",
      "+--------------------+---------------+------+-------------------------+\n",
      "|                Chad|           39.0|2017.0|                     26.0|\n",
      "|            Paraguay|          169.0|2017.0|                      2.8|\n",
      "|               Yemen|          249.0|2017.0|                    43.64|\n",
      "|             Senegal|          195.0|2017.0|                      7.3|\n",
      "|          Cabo Verde|           35.0|2017.0|                     20.9|\n",
      "|            Kiribati|           83.0|2017.0|                     10.9|\n",
      "|              Guyana|           91.0|2017.0|                      3.3|\n",
      "|         Philippines|          171.0|2017.0|                      6.4|\n",
      "|            Djibouti|           72.0|2017.0|                     19.9|\n",
      "|            Malaysia|          131.0|2017.0|                      5.2|\n",
      "|                Fiji|           66.0|2017.0|                      8.4|\n",
      "|              Malawi|          130.0|2017.0|                     15.1|\n",
      "|                Iraq|          103.0|2017.0|                     17.5|\n",
      "|             Comoros|           45.0|2017.0|                     11.6|\n",
      "|China, Taiwan Pro...|          214.0|2017.0|                      4.2|\n",
      "|         Afghanistan|            2.0|2017.0|                     22.7|\n",
      "|            Cambodia|          115.0|2017.0|                      5.8|\n",
      "|              Rwanda|          184.0|2017.0|                     31.4|\n",
      "|               Sudan|          276.0|2017.0|                     11.1|\n",
      "|           Sri Lanka|           38.0|2017.0|                      7.6|\n",
      "+--------------------+---------------+------+-------------------------+\n",
      "only showing top 20 rows\n",
      "\n"
     ]
    },
    {
     "name": "stderr",
     "output_type": "stream",
     "text": [
      "24/05/23 09:21:25 WARN WindowExec: No Partition Defined for Window operation! Moving all data to a single partition, this can cause serious performance degradation.\n",
      "24/05/23 09:21:25 WARN WindowExec: No Partition Defined for Window operation! Moving all data to a single partition, this can cause serious performance degradation.\n",
      "24/05/23 09:21:25 WARN WindowExec: No Partition Defined for Window operation! Moving all data to a single partition, this can cause serious performance degradation.\n",
      "24/05/23 09:21:25 WARN WindowExec: No Partition Defined for Window operation! Moving all data to a single partition, this can cause serious performance degradation.\n",
      "24/05/23 09:21:25 WARN WindowExec: No Partition Defined for Window operation! Moving all data to a single partition, this can cause serious performance degradation.\n",
      "24/05/23 09:21:26 WARN WindowExec: No Partition Defined for Window operation! Moving all data to a single partition, this can cause serious performance degradation.\n",
      "24/05/23 09:21:26 WARN WindowExec: No Partition Defined for Window operation! Moving all data to a single partition, this can cause serious performance degradation.\n",
      "24/05/23 09:21:26 WARN WindowExec: No Partition Defined for Window operation! Moving all data to a single partition, this can cause serious performance degradation.\n",
      "24/05/23 09:21:26 WARN WindowExec: No Partition Defined for Window operation! Moving all data to a single partition, this can cause serious performance degradation.\n",
      "24/05/23 09:21:26 WARN WindowExec: No Partition Defined for Window operation! Moving all data to a single partition, this can cause serious performance degradation.\n",
      "24/05/23 09:21:26 WARN WindowExec: No Partition Defined for Window operation! Moving all data to a single partition, this can cause serious performance degradation.\n",
      "24/05/23 09:21:26 WARN WindowExec: No Partition Defined for Window operation! Moving all data to a single partition, this can cause serious performance degradation.\n"
     ]
    },
    {
     "name": "stdout",
     "output_type": "stream",
     "text": [
      "+-----------------+---------------+------+------------------+--------------------------------+\n",
      "|             Area|Area Code (FAO)|  Year|GDP_Per_Capita_PPP|Children_Under_5_Wasting_Percent|\n",
      "+-----------------+---------------+------+------------------+--------------------------------+\n",
      "|    Côte d'Ivoire|          107.0|2017.0|            4750.9|                             8.4|\n",
      "|             Chad|           39.0|2017.0|            1579.8|                            10.6|\n",
      "|         Paraguay|          169.0|2017.0|           13604.2|                             1.0|\n",
      "|          Senegal|          195.0|2017.0|            3259.2|                             9.0|\n",
      "|         Kiribati|           83.0|2017.0|            1962.3|                             3.5|\n",
      "|Republic of Korea|          117.0|2017.0|           40957.4|                             0.9|\n",
      "|           Guyana|           91.0|2017.0|           12193.6|                             6.5|\n",
      "|         Djibouti|           72.0|2017.0|            4451.7|                            10.6|\n",
      "|            Tonga|          219.0|2017.0|            6257.0|                             1.1|\n",
      "|         Malaysia|          131.0|2017.0|           25935.1|                             9.7|\n",
      "|             Fiji|           66.0|2017.0|           12822.0|                             4.6|\n",
      "|           Malawi|          130.0|2017.0|            1454.8|                             2.6|\n",
      "|             Iraq|          103.0|2017.0|            9976.9|                             3.0|\n",
      "|          Germany|           79.0|2017.0|           53071.5|                             0.4|\n",
      "|      Afghanistan|            2.0|2017.0|            2096.1|                             5.1|\n",
      "|         Cambodia|          115.0|2017.0|            3972.7|                             9.6|\n",
      "|           Jordan|          112.0|2017.0|            9629.1|                             0.6|\n",
      "|         Maldives|          132.0|2017.0|           18973.6|                             9.1|\n",
      "|           Rwanda|          184.0|2017.0|            1935.0|              1.4333333333333336|\n",
      "|        Sri Lanka|           38.0|2017.0|           13584.2|                            10.6|\n",
      "+-----------------+---------------+------+------------------+--------------------------------+\n",
      "only showing top 20 rows\n",
      "\n"
     ]
    }
   ],
   "source": [
    "from pyspark.sql import SparkSession\n",
    "from pyspark.sql.functions import col, when, lit\n",
    "from pyspark.sql.window import Window\n",
    "import pyspark.sql.functions as F\n",
    "\n",
    "# Create SparkSession\n",
    "spark = SparkSession.builder.appName(\"HungerDataAnalysis\").getOrCreate()\n",
    "\n",
    "\n",
    "# Detect and replace extreme value functions\n",
    "def replace_outliers_iqr(df, col_name):\n",
    "     q1 = df.approxQuantile(col_name, [0.25], 0.01)[0]\n",
    "     q3 = df.approxQuantile(col_name, [0.75], 0.01)[0]\n",
    "     iqr = q3 - q1\n",
    "     lower_bound = q1 - 1.5 * iqr\n",
    "     upper_bound = q3 + 1.5 * iqr\n",
    "\n",
    "     # Find non-extreme data points\n",
    "     non_outliers_df = df.filter((col(col_name) >= lower_bound) & (col(col_name) <= upper_bound))\n",
    "\n",
    "     # Window function sorts by year and region to obtain the previous and next non-extreme points\n",
    "     window_spec = Window.orderBy(\"Year\").rowsBetween(Window.unboundedPreceding, Window.unboundedFollowing)\n",
    "\n",
    "     # Get the previous and next non-extreme data points\n",
    "     prev_non_outlier = F.last(col(col_name), ignorenulls=True).over(window_spec)\n",
    "     next_non_outlier = F.first(col(col_name), ignorenulls=True).over(window_spec)\n",
    "\n",
    "     # Replace extreme values\n",
    "     df = df.withColumn(\n",
    "         col_name,\n",
    "         when((col(col_name) < lower_bound) | (col(col_name) > upper_bound),\n",
    "              when(col(col_name) < lower_bound, next_non_outlier).otherwise(prev_non_outlier)\n",
    "             ).otherwise(col(col_name))\n",
    "     )\n",
    "     return df\n",
    "\n",
    "#Replace the extreme values in the specified column\n",
    "expenditure_df = replace_outliers_iqr(expenditure_df, 'Agriculture_CG')\n",
    "expenditure_df = replace_outliers_iqr(expenditure_df, 'Total_Expenditure_CG')\n",
    "malnutrition_df = replace_outliers_iqr(malnutrition_df, 'Incidence of malnutrition')\n",
    "wasting_df = replace_outliers_iqr(wasting_df, 'Children_Under_5_Wasting_Percent')\n",
    "\n",
    "# Display the processed DataFrame\n",
    "expenditure_df.show()\n",
    "malnutrition_df.show()\n",
    "wasting_df.show()\n"
   ]
  },
  {
   "cell_type": "code",
   "execution_count": 8,
   "id": "379d6c82",
   "metadata": {},
   "outputs": [
    {
     "name": "stderr",
     "output_type": "stream",
     "text": [
      "24/05/23 09:21:37 WARN WindowExec: No Partition Defined for Window operation! Moving all data to a single partition, this can cause serious performance degradation.\n",
      "24/05/23 09:21:37 WARN WindowExec: No Partition Defined for Window operation! Moving all data to a single partition, this can cause serious performance degradation.\n",
      "24/05/23 09:21:37 WARN WindowExec: No Partition Defined for Window operation! Moving all data to a single partition, this can cause serious performance degradation.\n",
      "24/05/23 09:21:37 WARN WindowExec: No Partition Defined for Window operation! Moving all data to a single partition, this can cause serious performance degradation.\n",
      "24/05/23 09:21:37 WARN WindowExec: No Partition Defined for Window operation! Moving all data to a single partition, this can cause serious performance degradation.\n",
      "24/05/23 09:21:37 WARN WindowExec: No Partition Defined for Window operation! Moving all data to a single partition, this can cause serious performance degradation.\n",
      "24/05/23 09:21:38 WARN WindowExec: No Partition Defined for Window operation! Moving all data to a single partition, this can cause serious performance degradation.\n",
      "24/05/23 09:21:38 WARN WindowExec: No Partition Defined for Window operation! Moving all data to a single partition, this can cause serious performance degradation.\n",
      "24/05/23 09:21:38 WARN WindowExec: No Partition Defined for Window operation! Moving all data to a single partition, this can cause serious performance degradation.\n",
      "24/05/23 09:21:38 WARN WindowExec: No Partition Defined for Window operation! Moving all data to a single partition, this can cause serious performance degradation.\n"
     ]
    },
    {
     "data": {
      "image/png": "[encoded data removed]",
      "text/plain": [
       "<Figure size 720x432 with 1 Axes>"
      ]
     },
     "metadata": {
      "needs_background": "light"
     },
     "output_type": "display_data"
    }
   ],
   "source": [
    "import matplotlib.pyplot as plt\n",
    "import pandas as pd\n",
    "\n",
    "# Convert PySpark DataFrame to Pandas DataFrame\n",
    "malnutrition_df_pd = malnutrition_df.toPandas()\n",
    "\n",
    "# Draw a boxplot of malnutrition prevalence\n",
    "plt.figure(figsize=(10, 6))\n",
    "plt.boxplot(malnutrition_df_pd['Incidence of malnutrition'].dropna(), vert=False)\n",
    "plt.title('Boxplot of Incidence of Malnutrition')\n",
    "plt.xlabel('Incidence of Malnutrition')\n",
    "plt.show()"
   ]
  },
  {
   "cell_type": "markdown",
   "id": "21847835",
   "metadata": {},
   "source": [
    "# Remove Irrelevant Values"
   ]
  },
  {
   "cell_type": "code",
   "execution_count": 9,
   "id": "4b036096",
   "metadata": {},
   "outputs": [
    {
     "name": "stdout",
     "output_type": "stream",
     "text": [
      "   Area Code (FAO)     Area  Year  Agriculture_CG  Total_Expenditure_CG\n",
      "0                1  Armenia  2017           76.01               3117.36\n",
      "1                1  Armenia  2018           53.74               2996.11\n",
      "2                1  Armenia  2019           63.14               3391.52\n",
      "3                1  Armenia  2020           61.32               3874.46\n",
      "4                1  Armenia  2021           87.18               3978.61\n"
     ]
    }
   ],
   "source": [
    "import pandas as pd\n",
    "\n",
    "expenditure_df = pd.read_csv('Expenditure.csv')\n",
    "\n",
    "# Delete the year_code column\n",
    "expenditure_df = expenditure_df.drop(columns=['Year_Code'])\n",
    "\n",
    "print(expenditure_df.head())"
   ]
  },
  {
   "cell_type": "markdown",
   "id": "28ff70a1",
   "metadata": {},
   "source": [
    "# Formatting Data"
   ]
  },
  {
   "cell_type": "code",
   "execution_count": 12,
   "id": "dddd88ec",
   "metadata": {},
   "outputs": [],
   "source": [
    "# Change all float type data to display two decimal places\n",
    "def format_float_columns(df):\n",
    "     float_cols = [col_name for col_name, dtype in df.dtypes if dtype == 'Float']\n",
    "     for col_name in float_cols:\n",
    "         df = df.withColumn(col_name, format_number(col(col_name), 2))\n",
    "     return df\n",
    "\n",
    "expenditure_df = format_float_columns(expenditure_df)\n",
    "malnutrition_df = format_float_columns(malnutrition_df)\n",
    "wasting_df = format_float_columns(wasting_df)"
   ]
  },
  {
   "cell_type": "markdown",
   "id": "f987e690",
   "metadata": {},
   "source": [
    "# Data Construction"
   ]
  },
  {
   "cell_type": "code",
   "execution_count": 40,
   "id": "fab67139",
   "metadata": {},
   "outputs": [
    {
     "name": "stdout",
     "output_type": "stream",
     "text": [
      "+---------------+------------------+\n",
      "|Area Code (FAO)|          Mean GDP|\n",
      "+---------------+------------------+\n",
      "|            148|          11972.54|\n",
      "|            137|22009.159999999996|\n",
      "|            251|3322.8599999999997|\n",
      "|             53|            3127.7|\n",
      "|            255|          50850.28|\n",
      "|            133|2160.5600000000004|\n",
      "|            108|          25646.22|\n",
      "|            155|           2953.28|\n",
      "|            193|4009.3599999999997|\n",
      "|            211| 70044.45999999999|\n",
      "|            101|          11514.18|\n",
      "|            115|           4257.08|\n",
      "|            126|36573.020000000004|\n",
      "|             81| 5219.879999999999|\n",
      "|             28|           4535.68|\n",
      "|            183|          29101.82|\n",
      "|            210|52418.520000000004|\n",
      "|             26|60595.659999999996|\n",
      "|             27|          22763.14|\n",
      "|             44|14282.740000000002|\n",
      "+---------------+------------------+\n",
      "only showing top 20 rows\n",
      "\n"
     ]
    }
   ],
   "source": [
    "# compute the mean gdp by area code\n",
    "from pyspark.sql.functions import avg\n",
    "mean_gdp_by_country = wasting_df.groupBy('Area Code (FAO)').agg(avg('GDP_Per_Capita_PPP')\\.alias('Mean GDP'))\n",
    "mean_gdp_by_country.show()"
   ]
  },
  {
   "cell_type": "code",
   "execution_count": 45,
   "id": "0d9d97b8",
   "metadata": {},
   "outputs": [
    {
     "name": "stdout",
     "output_type": "stream",
     "text": [
      "+---------------+------------------+-------------------+\n",
      "|Area Code (FAO)|          Mean GDP|        IncomeLevel|\n",
      "+---------------+------------------+-------------------+\n",
      "|            148|          11972.54|Upper middle income|\n",
      "|            137|22009.159999999996|        High income|\n",
      "|            251|3322.8599999999997|Lower middle income|\n",
      "|             53|            3127.7|Lower middle income|\n",
      "|            255|          50850.28|        High income|\n",
      "|            133|2160.5600000000004|Lower middle income|\n",
      "|            108|          25646.22|        High income|\n",
      "|            155|           2953.28|Lower middle income|\n",
      "|            193|4009.3599999999997|Lower middle income|\n",
      "|            211| 70044.45999999999|        High income|\n",
      "|            101|          11514.18|Upper middle income|\n",
      "|            115|           4257.08|Lower middle income|\n",
      "|            126|36573.020000000004|        High income|\n",
      "|             81| 5219.879999999999|Upper middle income|\n",
      "|             28|           4535.68|Upper middle income|\n",
      "|            183|          29101.82|        High income|\n",
      "|            210|52418.520000000004|        High income|\n",
      "|             26|60595.659999999996|        High income|\n",
      "|             27|          22763.14|        High income|\n",
      "|             44|14282.740000000002|        High income|\n",
      "+---------------+------------------+-------------------+\n",
      "only showing top 20 rows\n",
      "\n"
     ]
    }
   ],
   "source": [
    "# convert into incomelevels\n",
    "income_category = mean_gdp_by_country.withColumn(\"IncomeLevel\",\n",
    "    when(col(\"`Mean GDP`\") <= 1135, \"Low income\")\n",
    "    .when((col(\"`Mean GDP`\") > 1136) & (col(\"`Mean GDP`\") <= 4465), \"Lower middle income\")\n",
    "    .when((col(\"`Mean GDP`\") > 4466) & (col(\"`Mean GDP`\") <= 13845), \"Upper middle income\")\n",
    "    .otherwise(\"High income\")\n",
    ")\n",
    "income_category.show()"
   ]
  },
  {
   "cell_type": "markdown",
   "id": "ab38ee97",
   "metadata": {},
   "source": [
    "# Various Data Integration"
   ]
  },
  {
   "cell_type": "code",
   "execution_count": 43,
   "id": "3de81cc8",
   "metadata": {},
   "outputs": [
    {
     "name": "stdout",
     "output_type": "stream",
     "text": [
      "+---------------+-----------+----+---------+--------------+--------------------+-------------------------+------------------+--------------------------------+\n",
      "|Area Code (FAO)|Area       |Year|Year_Code|Agriculture_CG|Total_Expenditure_CG|Incidence of malnutrition|GDP_Per_Capita_PPP|Children_Under_5_Wasting_Percent|\n",
      "+---------------+-----------+----+---------+--------------+--------------------+-------------------------+------------------+--------------------------------+\n",
      "|1              |Armenia    |2017|1        |76.01         |3117.36             |null                     |12509.6           |null                            |\n",
      "|1              |Armenia    |2018|2        |53.74         |2996.11             |null                     |13231.4           |null                            |\n",
      "|1              |Armenia    |2019|3        |63.14         |3391.52             |null                     |14317.6           |null                            |\n",
      "|1              |Armenia    |2020|4        |61.32         |3874.46             |null                     |13357.7           |null                            |\n",
      "|1              |Armenia    |2021|5        |87.18         |3978.61             |null                     |14193.1           |null                            |\n",
      "|1              |Armenia    |2022|6        |134.42        |5147.58             |null                     |null              |4.4                             |\n",
      "|2              |Afghanistan|2017|7        |null          |9026.27             |22.7                     |2096.1            |null                            |\n",
      "|2              |Afghanistan|2018|8        |null          |5611.66             |24.0                     |2060.7            |5.1                             |\n",
      "|2              |Afghanistan|2019|9        |null          |5459.32             |26.9                     |2079.9            |null                            |\n",
      "|2              |Afghanistan|2020|10       |null          |5979.45             |28.8                     |1968.3            |null                            |\n",
      "|2              |Afghanistan|2021|11       |null          |5434.51             |30.1                     |1516.3            |null                            |\n",
      "|2              |Afghanistan|2022|12       |null          |2642.9              |null                     |null              |5.1                             |\n",
      "|3              |Albania    |2017|13       |60.28         |2936.56             |4.2                      |12771.0           |1.6                             |\n",
      "|3              |Albania    |2018|14       |74.81         |3309.15             |4.1                      |13317.1           |null                            |\n",
      "|3              |Albania    |2019|15       |55.54         |3285.52             |4.1                      |13653.2           |null                            |\n",
      "|3              |Albania    |2020|16       |82.56         |3796.47             |4.1                      |13253.8           |null                            |\n",
      "|3              |Albania    |2021|17       |112.75        |4340.22             |4.1                      |14516.3           |null                            |\n",
      "|3              |Albania    |2022|18       |116.29        |4254.78             |null                     |null              |1.6                             |\n",
      "|4              |Algeria    |2017|19       |null          |60976.98            |2.6                      |11809.5           |null                            |\n",
      "|4              |Algeria    |2018|20       |null          |72401.78            |null                     |11725.9           |null                            |\n",
      "+---------------+-----------+----+---------+--------------+--------------------+-------------------------+------------------+--------------------------------+\n",
      "only showing top 20 rows\n",
      "\n"
     ]
    }
   ],
   "source": [
    "combined_df = expenditure_df.join(malnutrition_df, on=['Area Code (FAO)', 'Area', 'Year'], how='outer')\n",
    "combined_df = combined_df.join(wasting_df, on=['Area Code (FAO)', 'Area', 'Year'], how='outer')\n",
    "\n",
    "#Display the merged data set\n",
    "combined_df.show(truncate=False)"
   ]
  },
  {
   "cell_type": "markdown",
   "id": "3ed7c8b8",
   "metadata": {},
   "source": [
    "# Data format conversion"
   ]
  },
  {
   "cell_type": "code",
   "execution_count": 47,
   "id": "2d902869",
   "metadata": {},
   "outputs": [
    {
     "name": "stdout",
     "output_type": "stream",
     "text": [
      "+---------------+------------------+-----------+\n",
      "|Area Code (FAO)|          Mean GDP|IncomeLevel|\n",
      "+---------------+------------------+-----------+\n",
      "|            148|          11972.54|          2|\n",
      "|            137|22009.159999999996|          3|\n",
      "|            251|3322.8599999999997|          1|\n",
      "|             53|            3127.7|          1|\n",
      "|            255|          50850.28|          3|\n",
      "|            133|2160.5600000000004|          1|\n",
      "|            108|          25646.22|          3|\n",
      "|            155|           2953.28|          1|\n",
      "|            193|4009.3599999999997|          1|\n",
      "|            211| 70044.45999999999|          3|\n",
      "|            101|          11514.18|          2|\n",
      "|            115|           4257.08|          1|\n",
      "|            126|36573.020000000004|          3|\n",
      "|             81| 5219.879999999999|          2|\n",
      "|             28|           4535.68|          2|\n",
      "|            183|          29101.82|          3|\n",
      "|            210|52418.520000000004|          3|\n",
      "|             26|60595.659999999996|          3|\n",
      "|             27|          22763.14|          3|\n",
      "|             44|14282.740000000002|          3|\n",
      "+---------------+------------------+-----------+\n",
      "only showing top 20 rows\n",
      "\n"
     ]
    }
   ],
   "source": [
    "from pyspark.sql.functions import col, when\n",
    "\n",
    "fin_df= income_category.withColumn(\"IncomeLevel\", \n",
    "                               when(col(\"IncomeLevel\") == \"Lower middle income\", 1)\n",
    "                               .when(col(\"IncomeLevel\") == \"Upper middle income\", 2)\n",
    "                               .when(col(\"IncomeLevel\") == \"High income\", 3)\n",
    "                               .when(col(\"IncomeLevel\") == \"Low income\", 0)\n",
    "                               .otherwise(col(\"IncomeLevel\")))\n",
    "fin_df.show()"
   ]
  }
 ],
 "metadata": {
  "kernelspec": {
   "display_name": "Python 3 (ipykernel)",
   "language": "python",
   "name": "python3"
  },
  "language_info": {
   "codemirror_mode": {
    "name": "ipython",
    "version": 3
   },
   "file_extension": ".py",
   "mimetype": "text/x-python",
   "name": "python",
   "nbconvert_exporter": "python",
   "pygments_lexer": "ipython3",
   "version": "3.10.4"
  }
 },
 "nbformat": 4,
 "nbformat_minor": 5
}

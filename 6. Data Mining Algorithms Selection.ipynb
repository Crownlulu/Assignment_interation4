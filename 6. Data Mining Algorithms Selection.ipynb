{
 "cells": [
  {
   "cell_type": "markdown",
   "id": "8833fa05",
   "metadata": {},
   "source": [
    "# build first model：linear regression  "
   ]
  },
  {
   "cell_type": "code",
   "execution_count": 4,
   "id": "d165a1e2",
   "metadata": {},
   "outputs": [
    {
     "name": "stdout",
     "output_type": "stream",
     "text": [
      "+---------------+-------+----+--------------+--------------------+-------------------------+------------------+--------------------------------+---------+------------+\n",
      "|Area Code (FAO)|   Area|Year|Agriculture_CG|Total_Expenditure_CG|Incidence of malnutrition|GDP_Per_Capita_PPP|Children_Under_5_Wasting_Percent|GDP(mean)|Income Level|\n",
      "+---------------+-------+----+--------------+--------------------+-------------------------+------------------+--------------------------------+---------+------------+\n",
      "|              3|Albania|2017|         60.28|             2936.56|                      4.2|           12771.0|                             1.6| 13502.28|         3.0|\n",
      "|              3|Albania|2018|         74.81|             3309.15|                      4.1|           13317.1|                             1.6| 13502.28|         3.0|\n",
      "|              3|Albania|2019|         55.54|             3285.52|                      4.1|           13653.2|                             1.6| 13502.28|         3.0|\n",
      "|              3|Albania|2020|         82.56|             3796.47|                      4.1|           13253.8|                             1.6| 13502.28|         3.0|\n",
      "|              3|Albania|2021|        112.75|             4340.22|                      4.1|           14516.3|                             1.6| 13502.28|         3.0|\n",
      "+---------------+-------+----+--------------+--------------------+-------------------------+------------------+--------------------------------+---------+------------+\n",
      "only showing top 5 rows\n",
      "\n"
     ]
    }
   ],
   "source": [
    "import findspark\n",
    "findspark.init('/home/ubuntu/spark-3.2.1-bin-hadoop2.7')\n",
    "import pyspark\n",
    "from pyspark.sql import SparkSession\n",
    "spark = SparkSession.builder.appName('linear_regression_adv').getOrCreate()\n",
    "from pyspark.ml.regression import LinearRegression\n",
    "\n",
    "# Download Data\n",
    "data_path = \"Fin.csv\"\n",
    "df = spark.read.csv(data_path, header=True, inferSchema=True)\n",
    "\n",
    "# View data\n",
    "df.show(5)\n"
   ]
  },
  {
   "cell_type": "code",
   "execution_count": 5,
   "id": "a3fa2cbd",
   "metadata": {},
   "outputs": [
    {
     "name": "stderr",
     "output_type": "stream",
     "text": [
      "24/05/23 14:02:10 WARN Instrumentation: [09896dc0] regParam is zero, which might cause numerical instability and overfitting.\n"
     ]
    },
    {
     "name": "stdout",
     "output_type": "stream",
     "text": [
      "+------------------+--------------------------------+\n",
      "|        prediction|Children_Under_5_Wasting_Percent|\n",
      "+------------------+--------------------------------+\n",
      "|  3.48505875684981|                             1.6|\n",
      "| 3.440212077545578|                             1.6|\n",
      "|3.4871182437184167|                             1.6|\n",
      "| 3.405726628231374|                             1.6|\n",
      "|3.3107475703069333|                             1.6|\n",
      "+------------------+--------------------------------+\n",
      "only showing top 5 rows\n",
      "\n"
     ]
    }
   ],
   "source": [
    "from pyspark.ml.feature import VectorAssembler\n",
    "\n",
    "#Define feature columns\n",
    "feature_columns = [\n",
    "     'Area Code (FAO)', 'Year', 'Agriculture_CG',\n",
    "     'Total_Expenditure_CG', 'Incidence of malnutrition',\n",
    "     'GDP_Per_Capita_PPP', 'GDP(mean)', 'Income Level'\n",
    "]\n",
    "\n",
    "# Combine feature vectors\n",
    "assembler = VectorAssembler(inputCols=feature_columns, outputCol=\"features\")\n",
    "df = assembler.transform(df)\n",
    "\n",
    "# Select features and target columns\n",
    "df = df.select(\"features\", \"Children_Under_5_Wasting_Percent\")\n",
    "\n",
    "from pyspark.ml.regression import LinearRegression\n",
    "\n",
    "#Initialize linear regression model\n",
    "lr = LinearRegression(featuresCol='features', labelCol='Children_Under_5_Wasting_Percent')\n",
    "\n",
    "#Train model\n",
    "lr_model = lr.fit(df)\n",
    "\n",
    "# Make predictions\n",
    "predictions = lr_model.transform(df)\n",
    "\n",
    "# Select actual and predicted values\n",
    "predictions.select(\"prediction\", \"Children_Under_5_Wasting_Percent\").show(5)\n"
   ]
  },
  {
   "cell_type": "markdown",
   "id": "a844c6ba",
   "metadata": {},
   "source": [
    "# Build a second model: decision tree"
   ]
  },
  {
   "cell_type": "code",
   "execution_count": 15,
   "id": "51101786",
   "metadata": {},
   "outputs": [],
   "source": [
    "from pyspark.sql import SparkSession\n",
    "\n",
    "spark = SparkSession.builder \\\n",
    "    .appName(\"DecisionTreeModel\") \\\n",
    "    .getOrCreate()\n",
    "\n",
    "data_path = \"Fin.csv\"\n",
    "df = spark.read.csv(data_path, header=True, inferSchema=True)"
   ]
  },
  {
   "cell_type": "code",
   "execution_count": 16,
   "id": "71de4e06",
   "metadata": {},
   "outputs": [
    {
     "name": "stdout",
     "output_type": "stream",
     "text": [
      "+-----------------+-------------------------+\n",
      "|       prediction|Incidence of malnutrition|\n",
      "+-----------------+-------------------------+\n",
      "|3.878166666666666|                      4.2|\n",
      "|3.878166666666666|                      4.1|\n",
      "|3.878166666666666|                      4.1|\n",
      "|3.878166666666666|                      4.1|\n",
      "|3.878166666666666|                      4.1|\n",
      "+-----------------+-------------------------+\n",
      "only showing top 5 rows\n",
      "\n"
     ]
    }
   ],
   "source": [
    "from pyspark.ml.feature import VectorAssembler\n",
    "\n",
    "#Define feature columns\n",
    "feature_columns = [\n",
    "     'Area Code (FAO)', 'Year', 'Agriculture_CG',\n",
    "     'Total_Expenditure_CG', 'GDP_Per_Capita_PPP',\n",
    "     'Children_Under_5_Wasting_Percent', 'GDP(mean)', 'Income Level'\n",
    "]\n",
    "# Combine feature vectors\n",
    "assembler = VectorAssembler(inputCols=feature_columns, outputCol=\"features\")\n",
    "df = assembler.transform(df)\n",
    "\n",
    "# Select features and target columns\n",
    "df = df.select(\"features\", \"Incidence of malnutrition\")\n",
    "from pyspark.ml.regression import DecisionTreeRegressor\n",
    "\n",
    "#Initialize the decision tree regression model\n",
    "dt = DecisionTreeRegressor(featuresCol='features', labelCol='Incidence of malnutrition')\n",
    "\n",
    "#Train model\n",
    "dt_model = dt.fit(df)\n",
    "# Make predictions\n",
    "predictions = dt_model.transform(df)\n",
    "\n",
    "# Select actual and predicted values\n",
    "predictions.select(\"prediction\", \"Incidence of malnutrition\").show(5)"
   ]
  },
  {
   "cell_type": "markdown",
   "id": "aa850a6f",
   "metadata": {},
   "source": [
    "# Build the third model: Random Forest"
   ]
  },
  {
   "cell_type": "code",
   "execution_count": 17,
   "id": "ed9b4eff",
   "metadata": {},
   "outputs": [],
   "source": [
    "from pyspark.sql import SparkSession\n",
    "\n",
    "spark = SparkSession.builder \\\n",
    "    .appName(\"RandomForestModel\") \\\n",
    "    .getOrCreate()\n",
    "\n",
    "data_path = \"Fin.csv\"\n",
    "df = spark.read.csv(data_path, header=True, inferSchema=True)"
   ]
  },
  {
   "cell_type": "code",
   "execution_count": 18,
   "id": "88737644",
   "metadata": {},
   "outputs": [
    {
     "name": "stderr",
     "output_type": "stream",
     "text": [
      "                                                                                \r"
     ]
    },
    {
     "name": "stdout",
     "output_type": "stream",
     "text": [
      "+----------+-----+\n",
      "|prediction|label|\n",
      "+----------+-----+\n",
      "|       8.0|  2.0|\n",
      "|       8.0|  8.0|\n",
      "|       8.0|  8.0|\n",
      "|       8.0|  8.0|\n",
      "|       8.0|  8.0|\n",
      "+----------+-----+\n",
      "only showing top 5 rows\n",
      "\n"
     ]
    }
   ],
   "source": [
    "from pyspark.ml.feature import VectorAssembler, StringIndexer\n",
    "\n",
    "#Define feature columns\n",
    "feature_columns = [\n",
    "     'Area Code (FAO)', 'Year', 'Agriculture_CG',\n",
    "     'Total_Expenditure_CG', 'GDP_Per_Capita_PPP',\n",
    "     'Children_Under_5_Wasting_Percent', 'GDP(mean)', 'Income Level'\n",
    "]\n",
    "\n",
    "# Combine feature vectors\n",
    "assembler = VectorAssembler(inputCols=feature_columns, outputCol=\"features\")\n",
    "df = assembler.transform(df)\n",
    "\n",
    "#Convert target column to index label\n",
    "indexer = StringIndexer(inputCol=\"Incidence of malnutrition\", outputCol=\"label\")\n",
    "df = indexer.fit(df).transform(df)\n",
    "\n",
    "# Select features and target columns\n",
    "df = df.select(\"features\", \"label\")\n",
    "\n",
    "from pyspark.ml.classification import RandomForestClassifier\n",
    "\n",
    "#Initialize the random forest classification model\n",
    "rf = RandomForestClassifier(featuresCol='features', labelCol='label', numTrees=10)\n",
    "\n",
    "#Train model\n",
    "rf_model = rf.fit(df)\n",
    "\n",
    "# Make predictions\n",
    "predictions = rf_model.transform(df)\n",
    "\n",
    "# Select actual and predicted values\n",
    "predictions.select(\"prediction\", \"label\").show(5)\n"
   ]
  }
 ],
 "metadata": {
  "kernelspec": {
   "display_name": "Python 3 (ipykernel)",
   "language": "python",
   "name": "python3"
  },
  "language_info": {
   "codemirror_mode": {
    "name": "ipython",
    "version": 3
   },
   "file_extension": ".py",
   "mimetype": "text/x-python",
   "name": "python",
   "nbconvert_exporter": "python",
   "pygments_lexer": "ipython3",
   "version": "3.10.4"
  }
 },
 "nbformat": 4,
 "nbformat_minor": 5
}

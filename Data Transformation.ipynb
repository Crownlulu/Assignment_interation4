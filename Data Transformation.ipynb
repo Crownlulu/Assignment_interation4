{
 "cells": [
  {
   "cell_type": "code",
   "execution_count": 1,
   "id": "5301a9ac",
   "metadata": {},
   "outputs": [
    {
     "name": "stderr",
     "output_type": "stream",
     "text": [
      "WARNING: An illegal reflective access operation has occurred\n",
      "WARNING: Illegal reflective access by org.apache.spark.unsafe.Platform (file:/home/ubuntu/spark-3.2.1-bin-hadoop2.7/jars/spark-unsafe_2.12-3.2.1.jar) to constructor java.nio.DirectByteBuffer(long,int)\n",
      "WARNING: Please consider reporting this to the maintainers of org.apache.spark.unsafe.Platform\n",
      "WARNING: Use --illegal-access=warn to enable warnings of further illegal reflective access operations\n",
      "WARNING: All illegal access operations will be denied in a future release\n",
      "Using Spark's default log4j profile: org/apache/spark/log4j-defaults.properties\n",
      "Setting default log level to \"WARN\".\n",
      "To adjust logging level use sc.setLogLevel(newLevel). For SparkR, use setLogLevel(newLevel).\n",
      "24/05/23 10:30:57 WARN NativeCodeLoader: Unable to load native-hadoop library for your platform... using builtin-java classes where applicable\n",
      "24/05/23 10:30:58 WARN Utils: Service 'SparkUI' could not bind on port 4040. Attempting port 4041.\n"
     ]
    }
   ],
   "source": [
    "import findspark\n",
    "findspark.init('/home/ubuntu/spark-3.2.1-bin-hadoop2.7')\n",
    "import pyspark\n",
    "from pyspark.sql import SparkSession\n",
    "spark = SparkSession.builder.appName('linear_regression_advance').getOrCreate()\n",
    "\n",
    "from pyspark.ml.regression import LinearRegression"
   ]
  },
  {
   "cell_type": "code",
   "execution_count": 3,
   "id": "c44ba4f9",
   "metadata": {},
   "outputs": [
    {
     "name": "stderr",
     "output_type": "stream",
     "text": [
      "                                                                                \r"
     ]
    },
    {
     "name": "stdout",
     "output_type": "stream",
     "text": [
      "root\n",
      " |-- Area Code (FAO): integer (nullable = true)\n",
      " |-- Area: string (nullable = true)\n",
      " |-- Year: integer (nullable = true)\n",
      " |-- Agriculture_CG: double (nullable = true)\n",
      " |-- Total_Expenditure_CG: double (nullable = true)\n",
      " |-- Incidence of malnutrition: double (nullable = true)\n",
      " |-- GDP_Per_Capita_PPP: double (nullable = true)\n",
      " |-- Children_Under_5_Wasting_Percent: double (nullable = true)\n",
      " |-- GDP(mean): double (nullable = true)\n",
      " |-- Income Level: double (nullable = true)\n",
      "\n",
      "+---------------+-------+----+--------------+--------------------+-------------------------+------------------+--------------------------------+---------+------------+\n",
      "|Area Code (FAO)|   Area|Year|Agriculture_CG|Total_Expenditure_CG|Incidence of malnutrition|GDP_Per_Capita_PPP|Children_Under_5_Wasting_Percent|GDP(mean)|Income Level|\n",
      "+---------------+-------+----+--------------+--------------------+-------------------------+------------------+--------------------------------+---------+------------+\n",
      "|              3|Albania|2017|         60.28|             2936.56|                      4.2|           12771.0|                             1.6| 13502.28|         3.0|\n",
      "|              3|Albania|2018|         74.81|             3309.15|                      4.1|           13317.1|                             1.6| 13502.28|         3.0|\n",
      "|              3|Albania|2019|         55.54|             3285.52|                      4.1|           13653.2|                             1.6| 13502.28|         3.0|\n",
      "|              3|Albania|2020|         82.56|             3796.47|                      4.1|           13253.8|                             1.6| 13502.28|         3.0|\n",
      "|              3|Albania|2021|        112.75|             4340.22|                      4.1|           14516.3|                             1.6| 13502.28|         3.0|\n",
      "+---------------+-------+----+--------------+--------------------+-------------------------+------------------+--------------------------------+---------+------------+\n",
      "only showing top 5 rows\n",
      "\n"
     ]
    }
   ],
   "source": [
    "from pyspark.sql import SparkSession\n",
    "\n",
    "# Create SparkSession\n",
    "spark = SparkSession.builder.appName(\"DataMiningProject\").getOrCreate()\n",
    "\n",
    "#Load CSV file\n",
    "file_path = \"Fin.csv\"\n",
    "df = spark.read.csv(file_path, header=True, inferSchema=True)\n",
    "\n",
    "# View data structure\n",
    "df.printSchema()\n",
    "\n",
    "# Display the first few rows of data\n",
    "df.show(5)"
   ]
  },
  {
   "cell_type": "markdown",
   "id": "b92629fb",
   "metadata": {},
   "source": [
    "# Data reduction"
   ]
  },
  {
   "cell_type": "code",
   "execution_count": 10,
   "id": "d76a2abc",
   "metadata": {},
   "outputs": [
    {
     "name": "stdout",
     "output_type": "stream",
     "text": [
      "root\n",
      " |-- Area Code (FAO): integer (nullable = true)\n",
      " |-- Area: string (nullable = true)\n",
      " |-- Year: integer (nullable = true)\n",
      " |-- Agriculture_CG: double (nullable = true)\n",
      " |-- Total_Expenditure_CG: double (nullable = true)\n",
      " |-- Incidence of malnutrition: double (nullable = true)\n",
      " |-- GDP_Per_Capita_PPP: double (nullable = true)\n",
      " |-- Children_Under_5_Wasting_Percent: double (nullable = true)\n",
      " |-- GDP(mean): double (nullable = true)\n",
      " |-- Income Level: double (nullable = true)\n",
      " |-- features: vector (nullable = true)\n",
      "\n",
      "+----------------------------------------------------+\n",
      "|features                                            |\n",
      "+----------------------------------------------------+\n",
      "|[2017.0,60.28,2936.56,12771.0,1.6,4.2,13502.28,3.0] |\n",
      "|[2018.0,74.81,3309.15,13317.1,1.6,4.1,13502.28,3.0] |\n",
      "|[2019.0,55.54,3285.52,13653.2,1.6,4.1,13502.28,3.0] |\n",
      "|[2020.0,82.56,3796.47,13253.8,1.6,4.1,13502.28,3.0] |\n",
      "|[2021.0,112.75,4340.22,14516.3,1.6,4.1,13502.28,3.0]|\n",
      "+----------------------------------------------------+\n",
      "only showing top 5 rows\n",
      "\n"
     ]
    }
   ],
   "source": [
    "from pyspark.ml.linalg import Vectors\n",
    "from pyspark.ml.feature import VectorAssembler\n",
    "\n",
    "# Feature column\n",
    "feature_cols = [\n",
    "     'Year',\n",
    "     'Agriculture_CG',\n",
    "     'Total_Expenditure_CG',\n",
    "     'GDP_Per_Capita_PPP',\n",
    "     'Children_Under_5_Wasting_Percent',\n",
    "     'Incidence of malnutrition',\n",
    "     'GDP(mean)',\n",
    "     'Income Level'\n",
    "]\n",
    "\n",
    "#Create VectorAssembler\n",
    "assembler = VectorAssembler(inputCols=feature_cols, outputCol=\"features\")\n",
    "\n",
    "# Convert the dataset to contain feature vectors\n",
    "final_df = assembler.transform(df)\n",
    "\n",
    "#View the converted data set structure\n",
    "final_df.printSchema()\n",
    "\n",
    "# Display the first few rows of data to confirm the conversion results\n",
    "final_df.select(\"features\").show(5, truncate=False)"
   ]
  },
  {
   "cell_type": "code",
   "execution_count": 14,
   "id": "6845b3ec",
   "metadata": {},
   "outputs": [
    {
     "name": "stdout",
     "output_type": "stream",
     "text": [
      "P-values:  [0.7266313800747537, 0.20010054450710513, 0.2528914293913245, 0.0, 0.14404504336172685, 0.0, 0.0, 9.102537286143075e-07, 0.7151801108802842]\n"
     ]
    }
   ],
   "source": [
    "from pyspark.ml.regression import LinearRegression\n",
    "\n",
    "# Prepare data\n",
    "data = final_df.select(\"features\", \"Incidence of malnutrition\")\n",
    "#Create linear regression model\n",
    "lr = LinearRegression(labelCol=\"Incidence of malnutrition\", featuresCol=\"features\")\n",
    "\n",
    "# Check the p-value of each variable\n",
    "summary = lr_model.summary\n",
    "print(\"P-values: \", summary.pValues)"
   ]
  },
  {
   "cell_type": "code",
   "execution_count": 18,
   "id": "6c3bd246",
   "metadata": {},
   "outputs": [
    {
     "name": "stdout",
     "output_type": "stream",
     "text": [
      "P-values:  [0.9501912200231539, 0.11601310832319722, 0.019949404397274106, 0.8237928918234922, 0.0, 0.22566296914238815, 0.4430069221773856, 0.8224534487458455, 0.9314836664661479]\n"
     ]
    }
   ],
   "source": [
    "from pyspark.ml.regression import LinearRegression\n",
    "\n",
    "# Prepare data\n",
    "data = final_df.select(\"features\", \"Children_Under_5_Wasting_Percent\")\n",
    "\n",
    "#Create linear regression model\n",
    "lr = LinearRegression(labelCol=\"Children_Under_5_Wasting_Percent\", featuresCol=\"features\")\n",
    "\n",
    "# Check the p-value of each variable\n",
    "summary = lr_model.summary\n",
    "print(\"P-values: \", summary.pValues)"
   ]
  },
  {
   "cell_type": "code",
   "execution_count": 24,
   "id": "51f21def",
   "metadata": {},
   "outputs": [
    {
     "name": "stdout",
     "output_type": "stream",
     "text": [
      "+------------+-----+\n",
      "|Income Level|count|\n",
      "+------------+-----+\n",
      "|         1.0|    6|\n",
      "|         4.0|   58|\n",
      "|         3.0|   90|\n",
      "|         2.0|   96|\n",
      "+------------+-----+\n",
      "\n",
      "+------------+-----+\n",
      "|Income Level|count|\n",
      "+------------+-----+\n",
      "|         1.0|    6|\n",
      "|         4.0|    5|\n",
      "|         3.0|    4|\n",
      "|         2.0|    4|\n",
      "+------------+-----+\n",
      "\n"
     ]
    },
    {
     "data": {
      "image/png": "[encoded data removed]",
      "text/plain": [
       "<Figure size 720x432 with 1 Axes>"
      ]
     },
     "metadata": {
      "needs_background": "light"
     },
     "output_type": "display_data"
    }
   ],
   "source": [
    "from pyspark.sql import SparkSession\n",
    "\n",
    "\n",
    "df.groupBy(\"Income Level\").count().show()\n",
    "\n",
    "# Get the amount of data for each income level category\n",
    "income_levels = df.select(\"Income Level\").distinct().rdd.flatMap(lambda x: x).collect()\n",
    "min_count = df.groupBy(\"Income Level\").count().agg({\"count\": \"min\"}).collect()[0][0]\n",
    "\n",
    "# Downsample each income level category\n",
    "df_resampled = None\n",
    "for level in income_levels:\n",
    "     df_level = df.filter(df[\"Income Level\"] == level)\n",
    "     df_level_resampled = df_level.sample(fraction=min_count / df_level.count(), seed=123)\n",
    "     if df_resampled is None:\n",
    "         df_resampled = df_level_resampled\n",
    "     else:\n",
    "         df_resampled = df_resampled.union(df_level_resampled)\n",
    "\n",
    "import pandas as pd\n",
    "import matplotlib.pyplot as plt\n",
    "\n",
    "pandas_df = df_resampled.toPandas()\n",
    "#draw graph\n",
    "plt.figure(figsize=(10, 6))\n",
    "pandas_df['Income Level'].hist(bins=len(pandas_df['Income Level'].unique()))\n",
    "plt.title('Income Level Distribution After Resampling')\n",
    "plt.xlabel('Income Level')\n",
    "plt.ylabel('Frequency')\n",
    "plt.show()\n",
    "\n",
    "\n",
    "\n",
    "\n"
   ]
  },
  {
   "cell_type": "markdown",
   "id": "a859118b",
   "metadata": {},
   "source": [
    "# Data Projection"
   ]
  },
  {
   "cell_type": "code",
   "execution_count": 25,
   "id": "ba1a57ea",
   "metadata": {},
   "outputs": [
    {
     "data": {
      "image/png": "[encoded data removed]",
      "text/plain": [
       "<Figure size 720x432 with 1 Axes>"
      ]
     },
     "metadata": {
      "needs_background": "light"
     },
     "output_type": "display_data"
    },
    {
     "data": {
      "image/png": "[encoded data removed]",
      "text/plain": [
       "<Figure size 720x432 with 1 Axes>"
      ]
     },
     "metadata": {
      "needs_background": "light"
     },
     "output_type": "display_data"
    }
   ],
   "source": [
    "import matplotlib.pyplot as plt\n",
    "\n",
    "# Plot a histogram of the prevalence of malnutrition in children under 5 years old\n",
    "plt.figure(figsize=(10, 6))\n",
    "pandas_df['Incidence of malnutrition'].hist(bins=20)\n",
    "plt.title('Incidence of Malnutrition in Children Under 5')\n",
    "plt.xlabel('Incidence of Malnutrition (%)')\n",
    "plt.ylabel('Frequency')\n",
    "plt.grid(False)\n",
    "plt.show()\n",
    "\n",
    "# Plot a histogram of the percentage of wasting in children under 5 years old\n",
    "plt.figure(figsize=(10, 6))\n",
    "pandas_df['Children_Under_5_Wasting_Percent'].hist(bins=20)\n",
    "plt.title('Wasting Percent in Children Under 5')\n",
    "plt.xlabel('Wasting Percent (%)')\n",
    "plt.ylabel('Frequency')\n",
    "plt.grid(False)\n",
    "plt.show()"
   ]
  },
  {
   "cell_type": "code",
   "execution_count": 26,
   "id": "3e822ed2",
   "metadata": {},
   "outputs": [
    {
     "name": "stdout",
     "output_type": "stream",
     "text": [
      "+-------------------------+------------------------------+\n",
      "|Incidence of malnutrition|sqrt_Incidence_of_malnutrition|\n",
      "+-------------------------+------------------------------+\n",
      "|                      4.2|              2.04939015319192|\n",
      "|                      4.1|            2.0248456731316584|\n",
      "|                      4.1|            2.0248456731316584|\n",
      "|                      4.1|            2.0248456731316584|\n",
      "|                      4.1|            2.0248456731316584|\n",
      "+-------------------------+------------------------------+\n",
      "only showing top 5 rows\n",
      "\n"
     ]
    },
    {
     "data": {
      "image/png": "[encoded data removed]",
      "text/plain": [
       "<Figure size 720x432 with 1 Axes>"
      ]
     },
     "metadata": {
      "needs_background": "light"
     },
     "output_type": "display_data"
    }
   ],
   "source": [
    "from pyspark.sql.functions import sqrt\n",
    "import pandas as pd\n",
    "import matplotlib.pyplot as plt\n",
    "\n",
    "# Perform a square root transformation on the \"Malnutrition Prevalence\" column\n",
    "df_transformed = df.withColumn(\"sqrt_Incidence_of_malnutrition\", sqrt(df[\"Incidence of malnutrition\"]))\n",
    "\n",
    "\n",
    "#Convert to Pandas DataFrame\n",
    "pandas_df = df_transformed.select(\"sqrt_Incidence_of_malnutrition\").toPandas()\n",
    "\n",
    "# Draw the square root transformed histogram\n",
    "plt.figure(figsize=(10, 6))\n",
    "pandas_df['sqrt_Incidence_of_malnutrition'].hist(bins=20)\n",
    "plt.title('Square Root Transformed Incidence of Malnutrition')\n",
    "plt.xlabel('Square Root of Incidence of Malnutrition')\n",
    "plt.ylabel('Frequency')\n",
    "plt.grid(False)\n",
    "plt.show()"
   ]
  },
  {
   "cell_type": "code",
   "execution_count": 28,
   "id": "bc74fbf2",
   "metadata": {},
   "outputs": [
    {
     "name": "stdout",
     "output_type": "stream",
     "text": [
      "+--------------------------------+--------------------------------------+\n",
      "|Children_Under_5_Wasting_Percent|log10_Children_Under_5_Wasting_Percent|\n",
      "+--------------------------------+--------------------------------------+\n",
      "|                             1.6|                    0.2041199826559248|\n",
      "|                             1.6|                    0.2041199826559248|\n",
      "|                             1.6|                    0.2041199826559248|\n",
      "|                             1.6|                    0.2041199826559248|\n",
      "|                             1.6|                    0.2041199826559248|\n",
      "+--------------------------------+--------------------------------------+\n",
      "only showing top 5 rows\n",
      "\n"
     ]
    },
    {
     "data": {
      "image/png": "[encoded data removed]",
      "text/plain": [
       "<Figure size 720x432 with 1 Axes>"
      ]
     },
     "metadata": {
      "needs_background": "light"
     },
     "output_type": "display_data"
    }
   ],
   "source": [
    "from pyspark.sql.functions import log10\n",
    "import pandas as pd\n",
    "import matplotlib.pyplot as plt\n",
    "\n",
    "# Perform a log10 transformation on the \"Under 5 wasting\" column\n",
    "df_transformed = df.withColumn(\"log10_Children_Under_5_Wasting_Percent\", log10(df[\"Children_Under_5_Wasting_Percent\"]))\n",
    "\n",
    "#Convert to Pandas DataFrame\n",
    "pandas_df = df_transformed.select(\"log10_Children_Under_5_Wasting_Percent\").toPandas()\n",
    "\n",
    "# Draw the log10 transformed histogram\n",
    "plt.figure(figsize=(10, 6))\n",
    "pandas_df['log10_Children_Under_5_Wasting_Percent'].hist(bins=20)\n",
    "plt.title('Log10 Transformed Children Under 5 Wasting Percent')\n",
    "plt.xlabel('Log10 of Children Under 5 Wasting Percent')\n",
    "plt.ylabel('Frequency')\n",
    "plt.grid(False)\n",
    "plt.show()\n",
    "\n"
   ]
  }
 ],
 "metadata": {
  "kernelspec": {
   "display_name": "Python 3 (ipykernel)",
   "language": "python",
   "name": "python3"
  },
  "language_info": {
   "codemirror_mode": {
    "name": "ipython",
    "version": 3
   },
   "file_extension": ".py",
   "mimetype": "text/x-python",
   "name": "python",
   "nbconvert_exporter": "python",
   "pygments_lexer": "ipython3",
   "version": "3.10.4"
  }
 },
 "nbformat": 4,
 "nbformat_minor": 5
}

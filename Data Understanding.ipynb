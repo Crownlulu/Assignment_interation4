{
 "cells": [
  {
   "cell_type": "code",
   "execution_count": 1,
   "id": "636c714d",
   "metadata": {},
   "outputs": [
    {
     "name": "stderr",
     "output_type": "stream",
     "text": [
      "WARNING: An illegal reflective access operation has occurred\n",
      "WARNING: Illegal reflective access by org.apache.spark.unsafe.Platform (file:/home/ubuntu/spark-3.2.1-bin-hadoop2.7/jars/spark-unsafe_2.12-3.2.1.jar) to constructor java.nio.DirectByteBuffer(long,int)\n",
      "WARNING: Please consider reporting this to the maintainers of org.apache.spark.unsafe.Platform\n",
      "WARNING: Use --illegal-access=warn to enable warnings of further illegal reflective access operations\n",
      "WARNING: All illegal access operations will be denied in a future release\n",
      "Using Spark's default log4j profile: org/apache/spark/log4j-defaults.properties\n",
      "Setting default log level to \"WARN\".\n",
      "To adjust logging level use sc.setLogLevel(newLevel). For SparkR, use setLogLevel(newLevel).\n",
      "24/05/23 05:44:25 WARN NativeCodeLoader: Unable to load native-hadoop library for your platform... using builtin-java classes where applicable\n"
     ]
    }
   ],
   "source": [
    "import findspark\n",
    "findspark.init('/home/ubuntu/spark-3.2.1-bin-hadoop2.7')\n",
    "import pyspark\n",
    "from pyspark.sql import SparkSession\n",
    "spark = SparkSession.builder.appName(\"HungerDataAnalysis\").getOrCreate()"
   ]
  },
  {
   "cell_type": "code",
   "execution_count": 2,
   "id": "e1013e4a",
   "metadata": {},
   "outputs": [
    {
     "name": "stderr",
     "output_type": "stream",
     "text": [
      "                                                                                \r"
     ]
    }
   ],
   "source": [
    "# read in data\n",
    "wasting_df = spark.read.csv(\"Wasting.csv\", header=True, inferSchema=True)\n",
    "expenditure_df = spark.read.csv(\"Expenditure.csv\", header=True, inferSchema=True)\n",
    "malnutrition_df = spark.read.csv(\"Malnutrition.csv\", header=True, inferSchema=True)\n"
   ]
  },
  {
   "cell_type": "code",
   "execution_count": 6,
   "id": "e9ac751a",
   "metadata": {},
   "outputs": [
    {
     "name": "stdout",
     "output_type": "stream",
     "text": [
      "+---------------+-----------+----+------------------+--------------------------------+\n",
      "|Area Code (FAO)|       Area|Year|GDP_Per_Capita_PPP|Children_Under_5_Wasting_Percent|\n",
      "+---------------+-----------+----+------------------+--------------------------------+\n",
      "|              1|    Armenia|2017|           12509.6|                            null|\n",
      "|              1|    Armenia|2018|           13231.4|                            null|\n",
      "|              1|    Armenia|2019|           14317.6|                            null|\n",
      "|              1|    Armenia|2020|           13357.7|                            null|\n",
      "|              1|    Armenia|2021|           14193.1|                            null|\n",
      "|              1|    Armenia|2022|              null|                             4.4|\n",
      "|              2|Afghanistan|2017|            2096.1|                            null|\n",
      "|              2|Afghanistan|2018|            2060.7|                             5.1|\n",
      "|              2|Afghanistan|2019|            2079.9|                            null|\n",
      "|              2|Afghanistan|2020|            1968.3|                            null|\n",
      "|              2|Afghanistan|2021|            1516.3|                            null|\n",
      "|              2|Afghanistan|2022|              null|                             5.1|\n",
      "|              3|    Albania|2017|           12771.0|                             1.6|\n",
      "|              3|    Albania|2018|           13317.1|                            null|\n",
      "|              3|    Albania|2019|           13653.2|                            null|\n",
      "|              3|    Albania|2020|           13253.8|                            null|\n",
      "|              3|    Albania|2021|           14516.3|                            null|\n",
      "|              3|    Albania|2022|              null|                             1.6|\n",
      "|              4|    Algeria|2017|           11809.5|                            null|\n",
      "|              4|    Algeria|2018|           11725.9|                            null|\n",
      "+---------------+-----------+----+------------------+--------------------------------+\n",
      "only showing top 20 rows\n",
      "\n",
      "+---------------+-----------+---------+----+--------------+--------------------+\n",
      "|Area Code (FAO)|       Area|Year_Code|Year|Agriculture_CG|Total_Expenditure_CG|\n",
      "+---------------+-----------+---------+----+--------------+--------------------+\n",
      "|              1|    Armenia|        1|2017|         76.01|             3117.36|\n",
      "|              1|    Armenia|        2|2018|         53.74|             2996.11|\n",
      "|              1|    Armenia|        3|2019|         63.14|             3391.52|\n",
      "|              1|    Armenia|        4|2020|         61.32|             3874.46|\n",
      "|              1|    Armenia|        5|2021|         87.18|             3978.61|\n",
      "|              1|    Armenia|        6|2022|        134.42|             5147.58|\n",
      "|              2|Afghanistan|        7|2017|          null|             9026.27|\n",
      "|              2|Afghanistan|        8|2018|          null|             5611.66|\n",
      "|              2|Afghanistan|        9|2019|          null|             5459.32|\n",
      "|              2|Afghanistan|       10|2020|          null|             5979.45|\n",
      "|              2|Afghanistan|       11|2021|          null|             5434.51|\n",
      "|              2|Afghanistan|       12|2022|          null|              2642.9|\n",
      "|              3|    Albania|       13|2017|         60.28|             2936.56|\n",
      "|              3|    Albania|       14|2018|         74.81|             3309.15|\n",
      "|              3|    Albania|       15|2019|         55.54|             3285.52|\n",
      "|              3|    Albania|       16|2020|         82.56|             3796.47|\n",
      "|              3|    Albania|       17|2021|        112.75|             4340.22|\n",
      "|              3|    Albania|       18|2022|        116.29|             4254.78|\n",
      "|              4|    Algeria|       19|2017|          null|            60976.98|\n",
      "|              4|    Algeria|       20|2018|          null|            72401.78|\n",
      "+---------------+-----------+---------+----+--------------+--------------------+\n",
      "only showing top 20 rows\n",
      "\n",
      "+---------------+--------------+----+-------------------------+\n",
      "|Area Code (FAO)|          Area|Year|Incidence of malnutrition|\n",
      "+---------------+--------------+----+-------------------------+\n",
      "|              2|   Afghanistan|2017|                     22.7|\n",
      "|              2|   Afghanistan|2018|                     24.0|\n",
      "|              2|   Afghanistan|2019|                     26.9|\n",
      "|              2|   Afghanistan|2020|                     28.8|\n",
      "|              2|   Afghanistan|2021|                     30.1|\n",
      "|              2|   Afghanistan|2022|                     null|\n",
      "|            284|??land Islands|2017|                     null|\n",
      "|            284|??land Islands|2018|                     null|\n",
      "|            284|??land Islands|2019|                     null|\n",
      "|            284|??land Islands|2020|                     null|\n",
      "|            284|??land Islands|2021|                     null|\n",
      "|            284|??land Islands|2022|                     null|\n",
      "|              3|       Albania|2017|                      4.2|\n",
      "|              3|       Albania|2018|                      4.1|\n",
      "|              3|       Albania|2019|                      4.1|\n",
      "|              3|       Albania|2020|                      4.1|\n",
      "|              3|       Albania|2021|                      4.1|\n",
      "|              3|       Albania|2022|                     null|\n",
      "|              4|       Algeria|2017|                      2.6|\n",
      "|              4|       Algeria|2018|                     null|\n",
      "+---------------+--------------+----+-------------------------+\n",
      "only showing top 20 rows\n",
      "\n"
     ]
    }
   ],
   "source": [
    "wasting_df.show()\n",
    "expenditure_df.show()\n",
    "malnutrition_df.show()"
   ]
  },
  {
   "cell_type": "code",
   "execution_count": 5,
   "id": "b623cabe",
   "metadata": {},
   "outputs": [
    {
     "name": "stdout",
     "output_type": "stream",
     "text": [
      "root\n",
      " |-- Area Code (FAO): integer (nullable = true)\n",
      " |-- Area: string (nullable = true)\n",
      " |-- Year: integer (nullable = true)\n",
      " |-- GDP_Per_Capita_PPP: double (nullable = true)\n",
      " |-- Children_Under_5_Wasting_Percent: double (nullable = true)\n",
      "\n",
      "root\n",
      " |-- Area Code (FAO): integer (nullable = true)\n",
      " |-- Area: string (nullable = true)\n",
      " |-- Year_Code: integer (nullable = true)\n",
      " |-- Year: integer (nullable = true)\n",
      " |-- Agriculture_CG: double (nullable = true)\n",
      " |-- Total_Expenditure_CG: double (nullable = true)\n",
      "\n",
      "root\n",
      " |-- Area Code (FAO): integer (nullable = true)\n",
      " |-- Area: string (nullable = true)\n",
      " |-- Year: integer (nullable = true)\n",
      " |-- Incidence of malnutrition: double (nullable = true)\n",
      "\n"
     ]
    }
   ],
   "source": [
    "# Print Schema\n",
    "wasting_df.printSchema()\n",
    "expenditure_df.printSchema()\n",
    "malnutrition_df.printSchema()"
   ]
  },
  {
   "cell_type": "code",
   "execution_count": null,
   "id": "6e685d82",
   "metadata": {},
   "outputs": [],
   "source": []
  }
 ],
 "metadata": {
  "kernelspec": {
   "display_name": "Python 3 (ipykernel)",
   "language": "python",
   "name": "python3"
  },
  "language_info": {
   "codemirror_mode": {
    "name": "ipython",
    "version": 3
   },
   "file_extension": ".py",
   "mimetype": "text/x-python",
   "name": "python",
   "nbconvert_exporter": "python",
   "pygments_lexer": "ipython3",
   "version": "3.10.4"
  }
 },
 "nbformat": 4,
 "nbformat_minor": 5
}

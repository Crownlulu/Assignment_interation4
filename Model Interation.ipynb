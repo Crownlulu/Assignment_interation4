{
 "cells": [
  {
   "cell_type": "markdown",
   "id": "b56ce8b5",
   "metadata": {},
   "source": [
    "# Linear Regression Model Iteration"
   ]
  },
  {
   "cell_type": "code",
   "execution_count": 2,
   "id": "3e68039f",
   "metadata": {},
   "outputs": [
    {
     "name": "stderr",
     "output_type": "stream",
     "text": [
      "                                                                                \r"
     ]
    }
   ],
   "source": [
    "from pyspark.sql import SparkSession\n",
    "\n",
    "#Initialize SparkSession\n",
    "spark = SparkSession.builder \\\n",
    "     .appName(\"LinearRegressionModelImprovement\") \\\n",
    "     .getOrCreate()\n",
    "# Download Data\n",
    "data_path = \"Fin.csv\"\n",
    "df = spark.read.csv(data_path, header=True, inferSchema=True)"
   ]
  },
  {
   "cell_type": "code",
   "execution_count": 3,
   "id": "1d89a100",
   "metadata": {},
   "outputs": [
    {
     "name": "stderr",
     "output_type": "stream",
     "text": [
      "24/05/23 17:09:20 WARN Instrumentation: [313408ed] regParam is zero, which might cause numerical instability and overfitting.\n",
      "24/05/23 17:09:21 WARN InstanceBuilder$NativeBLAS: Failed to load implementation from:dev.ludovic.netlib.blas.JNIBLAS\n",
      "24/05/23 17:09:21 WARN InstanceBuilder$NativeBLAS: Failed to load implementation from:dev.ludovic.netlib.blas.ForeignLinkerBLAS\n",
      "24/05/23 17:09:21 WARN InstanceBuilder$NativeLAPACK: Failed to load implementation from:dev.ludovic.netlib.lapack.JNILAPACK\n"
     ]
    },
    {
     "name": "stdout",
     "output_type": "stream",
     "text": [
      "Model 1 - Income Level:\n",
      "RMSE: 8.287832999788485\n",
      "R2: 0.44264770575913026\n"
     ]
    }
   ],
   "source": [
    "from pyspark.ml.feature import VectorAssembler\n",
    "from pyspark.ml.regression import LinearRegression\n",
    "from pyspark.ml.evaluation import RegressionEvaluator\n",
    "\n",
    "#Define feature columns\n",
    "feature_columns = ['Income Level']\n",
    "\n",
    "# Combine feature vectors\n",
    "assembler = VectorAssembler(inputCols=feature_columns, outputCol=\"features\")\n",
    "df_income = assembler.transform(df)\n",
    "\n",
    "# Select features and target columns\n",
    "df_income = df_income.select(\"features\", \"Incidence of malnutrition\")\n",
    "\n",
    "# Split the dataset\n",
    "train_data, test_data = df_income.randomSplit([0.8, 0.2], seed=42)\n",
    "\n",
    "#Initialize linear regression model\n",
    "lr = LinearRegression(featuresCol='features', labelCol='Incidence of malnutrition')\n",
    "\n",
    "# Train the model on the training set\n",
    "lr_model = lr.fit(train_data)\n",
    "\n",
    "# Make predictions\n",
    "predictions = lr_model.transform(test_data)\n",
    "\n",
    "# Calculate model evaluation indicators\n",
    "evaluator = RegressionEvaluator(labelCol=\"Incidence of malnutrition\", predictionCol=\"prediction\", metricName=\"rmse\")\n",
    "rmse = evaluator.evaluate(predictions)\n",
    "r2 = lr_model.summary.r2\n",
    "\n",
    "print(f\"Model 1 - Income Level:\")\n",
    "print(f\"RMSE: {rmse}\")\n",
    "print(f\"R2: {r2}\")"
   ]
  },
  {
   "cell_type": "code",
   "execution_count": 4,
   "id": "f9267ee3",
   "metadata": {},
   "outputs": [
    {
     "name": "stderr",
     "output_type": "stream",
     "text": [
      "24/05/23 17:09:31 WARN Instrumentation: [0ca1fa5e] regParam is zero, which might cause numerical instability and overfitting.\n"
     ]
    },
    {
     "name": "stdout",
     "output_type": "stream",
     "text": [
      "Model 2 - Agriculture_CG:\n",
      "RMSE: 11.387560101414723\n",
      "R2: 0.13692118297939748\n"
     ]
    }
   ],
   "source": [
    "#Define feature columns\n",
    "feature_columns = ['Agriculture_CG']\n",
    "\n",
    "# Combine feature vectors\n",
    "assembler = VectorAssembler(inputCols=feature_columns, outputCol=\"features\")\n",
    "df_agriculture = assembler.transform(df)\n",
    "\n",
    "# Select features and target columns\n",
    "df_agriculture = df_agriculture.select(\"features\", \"Incidence of malnutrition\")\n",
    "\n",
    "# Split the dataset\n",
    "train_data, test_data = df_agriculture.randomSplit([0.8, 0.2], seed=42)\n",
    "\n",
    "#Initialize linear regression model\n",
    "lr = LinearRegression(featuresCol='features', labelCol='Incidence of malnutrition')\n",
    "\n",
    "# Train the model on the training set\n",
    "lr_model = lr.fit(train_data)\n",
    "\n",
    "# Make predictions\n",
    "predictions = lr_model.transform(test_data)\n",
    "\n",
    "# Calculate model evaluation indicators\n",
    "evaluator = RegressionEvaluator(labelCol=\"Incidence of malnutrition\", predictionCol=\"prediction\", metricName=\"rmse\")\n",
    "rmse = evaluator.evaluate(predictions)\n",
    "r2 = lr_model.summary.r2\n",
    "\n",
    "print(f\"Model 2 - Agriculture_CG:\")\n",
    "print(f\"RMSE: {rmse}\")\n",
    "print(f\"R2: {r2}\")"
   ]
  },
  {
   "cell_type": "code",
   "execution_count": 5,
   "id": "b04cf5a9",
   "metadata": {},
   "outputs": [
    {
     "name": "stderr",
     "output_type": "stream",
     "text": [
      "24/05/23 17:09:50 WARN Instrumentation: [1b67ab38] regParam is zero, which might cause numerical instability and overfitting.\n"
     ]
    },
    {
     "name": "stdout",
     "output_type": "stream",
     "text": [
      "Model 3 - Total_Expenditure_CG:\n",
      "RMSE: 12.091561504175314\n",
      "R2: 0.13383624145976258\n"
     ]
    }
   ],
   "source": [
    "#Define feature columns\n",
    "feature_columns = ['Total_Expenditure_CG']\n",
    "\n",
    "# Combine feature vectors\n",
    "assembler = VectorAssembler(inputCols=feature_columns, outputCol=\"features\")\n",
    "df_total_expenditure = assembler.transform(df)\n",
    "\n",
    "# Select features and target columns\n",
    "df_total_expenditure = df_total_expenditure.select(\"features\", \"Incidence of malnutrition\")\n",
    "\n",
    "# Split the dataset\n",
    "train_data, test_data = df_total_expenditure.randomSplit([0.8, 0.2], seed=42)\n",
    "\n",
    "#Initialize linear regression model\n",
    "lr = LinearRegression(featuresCol='features', labelCol='Incidence of malnutrition')\n",
    "\n",
    "# Train the model on the training set\n",
    "lr_model = lr.fit(train_data)\n",
    "\n",
    "# Make predictions\n",
    "predictions = lr_model.transform(test_data)\n",
    "\n",
    "# Calculate model evaluation indicators\n",
    "evaluator = RegressionEvaluator(labelCol=\"Incidence of malnutrition\", predictionCol=\"prediction\", metricName=\"rmse\")\n",
    "rmse = evaluator.evaluate(predictions)\n",
    "r2 = lr_model.summary.r2\n",
    "\n",
    "print(f\"Model 3 - Total_Expenditure_CG:\")\n",
    "print(f\"RMSE: {rmse}\")\n",
    "print(f\"R2: {r2}\")\n"
   ]
  }
 ],
 "metadata": {
  "kernelspec": {
   "display_name": "Python 3 (ipykernel)",
   "language": "python",
   "name": "python3"
  },
  "language_info": {
   "codemirror_mode": {
    "name": "ipython",
    "version": 3
   },
   "file_extension": ".py",
   "mimetype": "text/x-python",
   "name": "python",
   "nbconvert_exporter": "python",
   "pygments_lexer": "ipython3",
   "version": "3.10.4"
  }
 },
 "nbformat": 4,
 "nbformat_minor": 5
}
